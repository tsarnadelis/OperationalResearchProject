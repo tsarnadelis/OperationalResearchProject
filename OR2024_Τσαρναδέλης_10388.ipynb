{
  "nbformat": 4,
  "nbformat_minor": 0,
  "metadata": {
    "colab": {
      "provenance": [],
      "toc_visible": true,
      "authorship_tag": "ABX9TyOMnSMYUix1m6NEzIADKJiU",
      "include_colab_link": true
    },
    "kernelspec": {
      "name": "python3",
      "display_name": "Python 3"
    },
    "language_info": {
      "name": "python"
    }
  },
  "cells": [
    {
      "cell_type": "markdown",
      "metadata": {
        "id": "view-in-github",
        "colab_type": "text"
      },
      "source": [
        "<a href=\"https://colab.research.google.com/github/tsarnadelis/OperationalResearchProject/blob/main/OR2024_%CE%A4%CF%83%CE%B1%CF%81%CE%BD%CE%B1%CE%B4%CE%AD%CE%BB%CE%B7%CF%82_10388.ipynb\" target=\"_parent\"><img src=\"https://colab.research.google.com/assets/colab-badge.svg\" alt=\"Open In Colab\"/></a>"
      ]
    },
    {
      "cell_type": "markdown",
      "source": [
        "# Operational Research 2024 ECE AUTH\n",
        "## Τσαρναδέλης Αθανάσιος Γρηγόριος 10388\n",
        "### atsarnad@ece.auth.gr"
      ],
      "metadata": {
        "id": "mFDqCBTc55sA"
      }
    },
    {
      "cell_type": "markdown",
      "source": [
        "## Προγραμματισμός Προσγειώσεων Πτήσεων"
      ],
      "metadata": {
        "id": "s3ku_svqJifo"
      }
    },
    {
      "cell_type": "markdown",
      "source": [
        "### Packages\n",
        "Χρησιμοποιώ την βιβλιοθήκη GurobiPy για την βελτιστοποίηση ,και την tabulate για να παρουσιάσω τα αποτελέσματα."
      ],
      "metadata": {
        "id": "eb9r92q3HMd4"
      }
    },
    {
      "cell_type": "code",
      "source": [
        "%pip install gurobipy\n",
        "import gurobipy as gp\n",
        "from gurobipy import GRB\n",
        "from tabulate import tabulate"
      ],
      "metadata": {
        "colab": {
          "base_uri": "https://localhost:8080/"
        },
        "id": "vYjwfqiXHleD",
        "outputId": "49607a67-c3af-4865-903d-88d126a47c9b"
      },
      "execution_count": null,
      "outputs": [
        {
          "output_type": "stream",
          "name": "stdout",
          "text": [
            "Requirement already satisfied: gurobipy in /usr/local/lib/python3.10/dist-packages (11.0.2)\n"
          ]
        }
      ]
    },
    {
      "cell_type": "markdown",
      "source": [
        "### Δεδομένα\n",
        "Ορίζω τα δεδομένα που δίνονται στην εκφώνηση, η επεξήγηση της κάθε μεταβλητής φαίνεται παρακάτω.\n"
      ],
      "metadata": {
        "id": "osqdsUUJHqsY"
      }
    },
    {
      "cell_type": "code",
      "execution_count": null,
      "metadata": {
        "id": "t1zYYBDO4Dm4"
      },
      "outputs": [],
      "source": [
        "# Δεδομένα\n",
        "M = 10^10 # Big M, για εκεί που δεν υπάρχουν δεδομένα\n",
        "n = 10  # Αριθμός αεροσκαφών\n",
        "e = [129, 195, 89, 96, 110, 120, 124, 126, 135, 160]  # Νωρίτερος χρόνος άφιξης\n",
        "est = [155, 258, 96, 106, 123, 135, 138, 140, 150, 180] # Εκτιμώμωνος χρόνος άφιξης\n",
        "l = [559, 744, 510, 521, 555, 576, 577, 573, 591, 657]  # Αργότερος χρόνος άφιξης\n",
        "c_early = [10, 10, 30, 30, 30, 30, 30, 30, 30, 30]  # Κόστος πρόωρης άφιξης ανά λεπτό\n",
        "c_late = [10, 10, 30, 30, 30, 30, 30, 30, 30, 30] # Κόστος καθυστερημένης άφιξης ανά λεπτό\n",
        "g = [[M, 3, 15, 15, 15, 15, 15, 15, 15, 15], # Ελάχιστος χρόνος μεταξύ προσγειώσεων\n",
        "     [3, M, 15, 15, 15, 15, 15, 15, 15, 15],\n",
        "     [15, 15, M, 8, 8, 8, 8, 8, 8, 8],\n",
        "     [15, 15, 8, M, 8, 8, 8, 8, 8, 8],\n",
        "     [15, 15, 8, 8, M, 8, 8, 8, 8, 8],\n",
        "     [15, 15, 8, 8, 8, M, 8, 8, 8, 8],\n",
        "     [15, 15, 8, 8, 8, 8, M, 8, 8, 8],\n",
        "     [15, 15, 8, 8, 8, 8, 8, M, 8, 8],\n",
        "     [15, 15, 8, 8, 8, 8, 8, 8, M, 8],\n",
        "     [15, 15, 8, 8, 8, 8, 8, 8, 8, M]]"
      ]
    },
    {
      "cell_type": "markdown",
      "source": [
        "### Ορισμός μοντέλου και μεταβλητές\n",
        "Ορίζω το μοντέλο μου και τις μεταβλητές που χρειάζομαι. Η μεταβλητή t είναι μεταβλητή απόφασης, ενώ οι άλλες δύο αφορούν τα πρόστιμα και θα με βοηθήσουν στον ορισμό των περιορισμών."
      ],
      "metadata": {
        "id": "CXAelyDWILdU"
      }
    },
    {
      "cell_type": "code",
      "source": [
        "# Δημιουργία μοντέλου\n",
        "model = gp.Model(\"landing_schedule\")\n",
        "\n",
        "# Μεταβλητές\n",
        "t = model.addVars(n, vtype=GRB.CONTINUOUS, name=\"t\")\n",
        "early_penalty = model.addVars(n, vtype=GRB.CONTINUOUS, name=\"early_penalty\")\n",
        "late_penalty = model.addVars(n, vtype=GRB.CONTINUOUS, name=\"late_penalty\")"
      ],
      "metadata": {
        "id": "eEbqIdgMIHJO"
      },
      "execution_count": null,
      "outputs": []
    },
    {
      "cell_type": "markdown",
      "source": [
        "### Ελαχιστοποίηση\n",
        "Ορίζω την συνάρτηση που θα ελαχιστοποιήσω, που είναι το συνολικό ποσό των προστίμων, δηλαδή το πρόστιμο πρόωρης άφιξης επί τα λεπτά πρόωρης άφιξης, συν το πρόστιμο αργοπορημένης άφιξης επί τα λεπτά που αργοπόρησε το αεροσκάφος."
      ],
      "metadata": {
        "id": "2Wv6BhJdItFz"
      }
    },
    {
      "cell_type": "code",
      "source": [
        "# Στόχος: Ελαχιστοποίηση του συνολικού προστίμου\n",
        "model.setObjective(gp.quicksum(c_early[i] * early_penalty[i] + c_late[i] * late_penalty[i] for i in range(n)), GRB.MINIMIZE)"
      ],
      "metadata": {
        "id": "1zeDFLkwIque"
      },
      "execution_count": null,
      "outputs": []
    },
    {
      "cell_type": "markdown",
      "source": [
        "### Περιορισμοί και βελτιστοποίηση\n",
        "1. Ο χρόνος άφιξης του αεροσκάφους πρέπει να είναι μεγαλύτερος από τον ελάχιστο και μικρότερος από τον μέγιστο\n",
        "2. Τα early_penalty και late_penalty είναι η διαφορές των χρόνων από τον εκτιμώμενο και πρέπει να είναι θετικές\n",
        "3. Η διαφορά άφιξης ενός αεροσκάφους με οποιδήποτε άλλο πρέπει να είναι μεγαλύτερη ή ίση από αυτήν που δίνεται στην εκφώνηση\n",
        "\n",
        "Με τους παραπάνω περιορισμούς κάνω βελτιστοποίηση."
      ],
      "metadata": {
        "id": "bN6M6HTkJScn"
      }
    },
    {
      "cell_type": "code",
      "source": [
        "# Περιορισμοί:\n",
        "# 1. Νωρίτεροι και αργότεροι χρόνοι άφιξης\n",
        "for i in range(n):\n",
        "    model.addConstr(t[i] >= e[i], name=f\"earliest_time_{i}\")\n",
        "    model.addConstr(t[i] <= l[i], name=f\"latest_time_{i}\")\n",
        "\n",
        "# 2. Υπολογισμός προστίμου πρόωρης και καθυστερημένης άφιξης\n",
        "for i in range(n):\n",
        "    model.addConstr(early_penalty[i] >= est[i] - t[i], name=f\"early_penalty_{i}\")\n",
        "    model.addConstr(early_penalty[i] >= 0, name=f\"non_negative_early_penalty_{i}\")\n",
        "    model.addConstr(late_penalty[i] >= t[i] - est[i], name=f\"late_penalty_{i}\")\n",
        "    model.addConstr(late_penalty[i] >= 0, name=f\"non_negative_late_penalty_{i}\")\n",
        "\n",
        "# 3. Ελάχιστος χρόνος μεταξύ των προσγειώσεων\n",
        "for i in range(n):\n",
        "    for j in range(i + 1, n):\n",
        "        model.addConstr(t[j] - t[i] >= g[i][j], name=f\"min_gap_{i}_{j}\")\n",
        "\n",
        "# Βελτιστοποίηση του μοντέλου\n",
        "# model.setParam('OutputFlag',False) # Hush gurobi solver output\n",
        "model.optimize()"
      ],
      "metadata": {
        "colab": {
          "base_uri": "https://localhost:8080/"
        },
        "id": "pS9qy9fMJPjM",
        "outputId": "c7302efa-00a0-4fb2-8ff8-db9317016460"
      },
      "execution_count": null,
      "outputs": [
        {
          "output_type": "stream",
          "name": "stdout",
          "text": [
            "Gurobi Optimizer version 11.0.2 build v11.0.2rc0 (linux64 - \"Ubuntu 22.04.3 LTS\")\n",
            "\n",
            "CPU model: Intel(R) Xeon(R) CPU @ 2.20GHz, instruction set [SSE2|AVX|AVX2]\n",
            "Thread count: 1 physical cores, 2 logical processors, using up to 2 threads\n",
            "\n",
            "Optimize a model with 105 rows, 30 columns and 170 nonzeros\n",
            "Model fingerprint: 0x1381f806\n",
            "Coefficient statistics:\n",
            "  Matrix range     [1e+00, 1e+00]\n",
            "  Objective range  [1e+01, 3e+01]\n",
            "  Bounds range     [0e+00, 0e+00]\n",
            "  RHS range        [3e+00, 7e+02]\n",
            "Presolve removed 48 rows and 8 columns\n",
            "Presolve time: 0.01s\n",
            "Presolved: 57 rows, 22 columns, 114 nonzeros\n",
            "\n",
            "Iteration    Objective       Primal Inf.    Dual Inf.      Time\n",
            "       0    0.0000000e+00   1.154194e+02   0.000000e+00      0s\n",
            "      19    2.5710000e+04   0.000000e+00   0.000000e+00      0s\n",
            "\n",
            "Solved in 19 iterations and 0.02 seconds (0.00 work units)\n",
            "Optimal objective  2.571000000e+04\n"
          ]
        }
      ]
    },
    {
      "cell_type": "markdown",
      "source": [
        "### Αποτελέσματα\n",
        "Τέλος, εμφανίζω τα αποτελέσματα παρακάτω:"
      ],
      "metadata": {
        "id": "omQqpj-vLUdb"
      }
    },
    {
      "cell_type": "code",
      "source": [
        "\n",
        "# Εμφάνιση των αποτελεσμάτων\n",
        "if model.status == GRB.OPTIMAL:\n",
        "    landing_times = model.getAttr('x', t)\n",
        "    results = []\n",
        "    for i in range(n):\n",
        "        results.append([f\"Αεροσκάφος {i + 1}\", f\"{landing_times[i]:3.0f} λεπτά\"])\n",
        "    print(tabulate(results , headers=[\"Αεροσκάφος\", \"Προγραμματισμένος Χρόνος Προσγείωσης\"], tablefmt=\"grid\"))\n",
        "else:\n",
        "    print(\"Δεν βρέθηκε βέλτιστη λύση!\")"
      ],
      "metadata": {
        "colab": {
          "base_uri": "https://localhost:8080/"
        },
        "id": "f63mNRcgLTd4",
        "outputId": "8185ae61-febf-42e7-996a-112e3625ef10"
      },
      "execution_count": null,
      "outputs": [
        {
          "output_type": "stream",
          "name": "stdout",
          "text": [
            "+---------------+----------------------------------------+\n",
            "| Αεροσκάφος    | Προγραμματισμένος Χρόνος Προσγείωσης   |\n",
            "+===============+========================================+\n",
            "| Αεροσκάφος 1  | 155 λεπτά                              |\n",
            "+---------------+----------------------------------------+\n",
            "| Αεροσκάφος 2  | 195 λεπτά                              |\n",
            "+---------------+----------------------------------------+\n",
            "| Αεροσκάφος 3  | 210 λεπτά                              |\n",
            "+---------------+----------------------------------------+\n",
            "| Αεροσκάφος 4  | 218 λεπτά                              |\n",
            "+---------------+----------------------------------------+\n",
            "| Αεροσκάφος 5  | 226 λεπτά                              |\n",
            "+---------------+----------------------------------------+\n",
            "| Αεροσκάφος 6  | 234 λεπτά                              |\n",
            "+---------------+----------------------------------------+\n",
            "| Αεροσκάφος 7  | 242 λεπτά                              |\n",
            "+---------------+----------------------------------------+\n",
            "| Αεροσκάφος 8  | 250 λεπτά                              |\n",
            "+---------------+----------------------------------------+\n",
            "| Αεροσκάφος 9  | 258 λεπτά                              |\n",
            "+---------------+----------------------------------------+\n",
            "| Αεροσκάφος 10 | 266 λεπτά                              |\n",
            "+---------------+----------------------------------------+\n"
          ]
        }
      ]
    },
    {
      "cell_type": "markdown",
      "source": [
        "## Σχεδιασμός παράδοσης πετρελαίου\n",
        "\n",
        "\n"
      ],
      "metadata": {
        "id": "6C3V5ovCLy6n"
      }
    },
    {
      "cell_type": "markdown",
      "source": [
        "### Δεδομένα\n",
        "Ορίζω τα δεδομένα που δίνονται στην εκφώνηση, η επεξήγηση της κάθε μεταβλητής φαίνεται παρακάτω."
      ],
      "metadata": {
        "id": "Mtfg6Aps6P9I"
      }
    },
    {
      "cell_type": "code",
      "source": [
        "# Δεδομένα\n",
        "locations = ['Ω', 'Α', 'Β', 'Γ', 'Δ', 'Ε', 'ΣΤ'] # Οι τοποθεσίες του προβλήματος\n",
        "demand = [0, 14000, 3000, 6000, 16000, 15000, 5000] # Ζήτηση σε λίτρα\n",
        "distances = [   # Αποστάσεις μεταξύ πόλεων\n",
        "    [0, 148, 55, 32, 70, 140, 73],\n",
        "    [148, 0, 93, 180, 99, 12, 72],\n",
        "    [55, 93, 0, 85, 20, 83, 28],\n",
        "    [32, 180, 85, 0, 100, 174, 99],\n",
        "    [70, 99, 20, 100, 0, 85, 49],\n",
        "    [140, 12, 83, 174, 85, 0, 73],\n",
        "    [73, 72, 28, 99, 49, 73, 0]\n",
        "]\n",
        "capacity = 39000 # Χωρητικότητα δεξαμενόπλοιου"
      ],
      "metadata": {
        "id": "YxdXxHrmL1-u"
      },
      "execution_count": null,
      "outputs": []
    },
    {
      "cell_type": "markdown",
      "source": [
        "### Ορισμός μοντέλου και μεταβλητές\n",
        "Ορίζω το μοντέλο μου και τις μεταβλητές που χρειάζομαι. Η μεταβλητή t είναι μεταβλητή απόφασης, ενώ οι άλλες δύο αφορούν τα πρόστιμα και θα με βοηθήσουν στον ορισμό των περιορισμών."
      ],
      "metadata": {
        "id": "3aYV0DUr7-Ei"
      }
    },
    {
      "cell_type": "code",
      "source": [
        "# Δημιουργία του μοντέλου\n",
        "model = gp.Model(\"fuel_delivery\")\n",
        "\n",
        "# Μεταβλητές\n",
        "num_locations = len(locations) # Αριθμός τοποθεσιών\n",
        "x = model.addVars(num_locations, num_locations, vtype=GRB.BINARY, name='x')\n",
        "u = model.addVars(num_locations, vtype=GRB.INTEGER, name='u')"
      ],
      "metadata": {
        "id": "HenPOEPs6Y2Z"
      },
      "execution_count": null,
      "outputs": []
    },
    {
      "cell_type": "markdown",
      "source": [
        "### Ελαχιστοποίηση\n",
        "Ορίζω την συνάρτηση που θα ελαχιστοποιήσω, που είναι ο ελάχιστος αριθμός χιλιομέτρων για να ικανοποιηθεί η ζήτηση, δηλαδή οι διαδρομές που κάνω επί τις αποστάσεις των πόλεων της εκάστοτε διαδρομής."
      ],
      "metadata": {
        "id": "mtaatrUp8d6w"
      }
    },
    {
      "cell_type": "code",
      "source": [
        "# Στόχος\n",
        "model.setObjective(gp.quicksum(distances[i][j] * x[i, j] for i in range(num_locations) for j in range(num_locations)), GRB.MINIMIZE)"
      ],
      "metadata": {
        "id": "yF_Sz8H_8cdF"
      },
      "execution_count": null,
      "outputs": []
    },
    {
      "cell_type": "markdown",
      "source": [
        "### Περιορισμοί και βελτιστοποίηση\n",
        "1. Ακριβώς ένα όχημα φτάνει σε κάθε πόλη και ακριβώς ένα αναχωρεί\n",
        "2. Η ποσότητα καυσίμου στην αρχή της διαδρομής πρέπει να είναι μικρότερη της χωρητικότητας\n",
        "3. Κάθε κλειστή διαδρομή πρέπει να περιλαμβάνει το διυλιστήριο\n",
        "4. Το φορτίο μετά την εξυπηρέτηση του πελάτη i είναι τουλάχιστον η ζήτηση του πελάτη i και δεν υπερβαίνει ποτέ την μέγιστη χωρητικότητα\n",
        "\n",
        "Με τους παραπάνω περιορισμούς κάνω βελτιστοποίηση."
      ],
      "metadata": {
        "id": "YF86wA2589IH"
      }
    },
    {
      "cell_type": "code",
      "source": [
        "# Περιορισμοί:\n",
        "# 1. Ακριβώς ένα όχημα φτάνει σε κάθε πόλη και ακριβώς ένα αναχωρεί\n",
        "for j in range(1, num_locations):\n",
        "    model.addConstr(gp.quicksum(x[i, j] for i in range(num_locations) if i != j) == 1)\n",
        "    model.addConstr(gp.quicksum(x[j, k] for k in range(num_locations) if k != j) == 1)\n",
        "\n",
        "# 2. Η ποσότητα καυσίμου στην αρχή της διαδρομής πρέπει να είναι μικρότερη της χωρητικότητας\n",
        "model.addConstr(gp.quicksum(demand[j] * x[0, j] for j in range(1, num_locations)) <= capacity)\n",
        "\n",
        "# 3. Κάθε κλειστή διαδρομή πρέπει να περιλαμβάνει το διυλιστήριο\n",
        "for i in range(1, num_locations):\n",
        "    for j in range(1, num_locations):\n",
        "        if i != j:\n",
        "            model.addConstr(u[i] - u[j] + capacity * x[i, j] <= capacity - demand[j])\n",
        "\n",
        "# 4. Το φορτίο μετά την εξυπηρέτηση του πελάτη i είναι τουλάχιστον η ζήτηση του πελάτη i και δεν υπερβαίνει ποτέ την μέγιστη χωρητικότητα\n",
        "for i in range(1, num_locations):\n",
        "    model.addConstr(u[i] >= demand[i])\n",
        "    model.addConstr(u[i] <= capacity)\n",
        "\n",
        "# Βελτιστοποίηση\n",
        "model.setParam('OutputFlag',False) # Hush gurobi solver output\n",
        "model.optimize()\n"
      ],
      "metadata": {
        "id": "IUT4lX5T88Cz"
      },
      "execution_count": null,
      "outputs": []
    },
    {
      "cell_type": "markdown",
      "source": [
        "### Αποτελέσματα\n",
        "Τέλος, εμφανίζω τα αποτελέσματα παρακάτω:"
      ],
      "metadata": {
        "id": "PjcshGidC_zE"
      }
    },
    {
      "cell_type": "code",
      "source": [
        "# Αποτελέσματα\n",
        "if model.status == GRB.OPTIMAL:\n",
        "    print('Ελάχιστο κόστος για εξυπηρέτηση της ζήτησης: %g km' % model.objVal)\n",
        "    solution = model.getAttr('x', x)\n",
        "    print('Βέλτιστες διαδρομές')\n",
        "    for i in range(num_locations):\n",
        "        for j in range(num_locations):\n",
        "            if solution[i, j] > 0.5:\n",
        "                print('%s -> %s' % (locations[i], locations[j]))\n",
        "else:\n",
        "    print('Δεν βρέθηκε βέλτιστη λύση!')"
      ],
      "metadata": {
        "id": "d7_R9V3QC-v_"
      },
      "execution_count": null,
      "outputs": []
    }
  ]
}